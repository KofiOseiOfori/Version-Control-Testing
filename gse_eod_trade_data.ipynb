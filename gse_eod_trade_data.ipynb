{
  "nbformat": 4,
  "nbformat_minor": 0,
  "metadata": {
    "colab": {
      "name": "gse-eod-trade-data.ipynb",
      "provenance": [],
      "collapsed_sections": [],
      "authorship_tag": "ABX9TyNGWdwZ+aob0YLwxcjCykGc",
      "include_colab_link": true
    },
    "kernelspec": {
      "name": "python3",
      "display_name": "Python 3"
    }
  },
  "cells": [
    {
      "cell_type": "markdown",
      "metadata": {
        "id": "view-in-github",
        "colab_type": "text"
      },
      "source": [
        "<a href=\"https://colab.research.google.com/github/KofiOseiOfori/Version-Control-Testing/blob/main/gse_eod_trade_data.ipynb\" target=\"_parent\"><img src=\"https://colab.research.google.com/assets/colab-badge.svg\" alt=\"Open In Colab\"/></a>"
      ]
    },
    {
      "cell_type": "markdown",
      "metadata": {
        "id": "9cGh_Zz1KNAi"
      },
      "source": [
        "### *Connecting to Google Colab and Mounting the Google Drive* **bold text**"
      ]
    },
    {
      "cell_type": "code",
      "metadata": {
        "id": "I-oN8A1_Kis4",
        "colab": {
          "base_uri": "https://localhost:8080/",
          "height": 34
        },
        "outputId": "32f01231-4163-4121-a5cf-f1e9c477fd9c"
      },
      "source": [
        "from google.colab import drive\n",
        "drive.mount('drive/')"
      ],
      "execution_count": null,
      "outputs": [
        {
          "output_type": "stream",
          "text": [
            "Drive already mounted at drive/; to attempt to forcibly remount, call drive.mount(\"drive/\", force_remount=True).\n"
          ],
          "name": "stdout"
        }
      ]
    },
    {
      "cell_type": "markdown",
      "metadata": {
        "id": "i-mIItwTKzde"
      },
      "source": [
        "### *Changing Work Directory to point to Project*"
      ]
    },
    {
      "cell_type": "code",
      "metadata": {
        "id": "-JGLitlZKj79"
      },
      "source": [
        "import os"
      ],
      "execution_count": null,
      "outputs": []
    },
    {
      "cell_type": "code",
      "metadata": {
        "id": "9nMbZiJcLjGm"
      },
      "source": [
        "os.chdir('/content/drive/My Drive/Data_Science/gse-webscrapping/')"
      ],
      "execution_count": null,
      "outputs": []
    },
    {
      "cell_type": "code",
      "metadata": {
        "id": "2rgnN7D8LjbJ",
        "colab": {
          "base_uri": "https://localhost:8080/",
          "height": 34
        },
        "outputId": "82f67f4c-e139-4863-9f72-71751264ca7e"
      },
      "source": [
        "ls"
      ],
      "execution_count": null,
      "outputs": [
        {
          "output_type": "stream",
          "text": [
            "gse-eod-trade-data.ipynb  \u001b[0m\u001b[01;34mresults\u001b[0m/\n"
          ],
          "name": "stdout"
        }
      ]
    },
    {
      "cell_type": "code",
      "metadata": {
        "id": "ggbqzYmv2K_a"
      },
      "source": [
        "result = ('/content/drive/My Drive/Data_Science/gse-webscrapping/results/')"
      ],
      "execution_count": null,
      "outputs": []
    },
    {
      "cell_type": "markdown",
      "metadata": {
        "id": "tvLK_KvHMsw6"
      },
      "source": [
        "### *Importing Other Required Libraries*"
      ]
    },
    {
      "cell_type": "code",
      "metadata": {
        "id": "fo6VNq1GMqMj"
      },
      "source": [
        "import requests\n",
        "import requests.exceptions \n",
        "import json\n",
        "import numpy\n",
        "import pandas as pd\n",
        "import datetime as dt"
      ],
      "execution_count": null,
      "outputs": []
    },
    {
      "cell_type": "code",
      "metadata": {
        "id": "eCGWDnIzMqt1"
      },
      "source": [
        "live_response = requests.get('https://dev.kwayisi.org/apis/gse/live')\n",
        "live_response"
      ],
      "execution_count": null,
      "outputs": []
    },
    {
      "cell_type": "code",
      "metadata": {
        "id": "pxUAiawHMq2M"
      },
      "source": [
        "live_response.status_code"
      ],
      "execution_count": null,
      "outputs": []
    },
    {
      "cell_type": "code",
      "metadata": {
        "id": "7tKrgBx7Mqk-"
      },
      "source": [
        "if live_response.status_code == 200:\n",
        "  print('Success!')\n",
        "elif live_response.status_code == 400:\n",
        "  print('Not Found')"
      ],
      "execution_count": null,
      "outputs": []
    },
    {
      "cell_type": "code",
      "metadata": {
        "id": "qzjKOTKUMp2Z"
      },
      "source": [
        "live_response.content"
      ],
      "execution_count": null,
      "outputs": []
    },
    {
      "cell_type": "code",
      "metadata": {
        "id": "WYoCHEQVP9hQ"
      },
      "source": [
        "live_response.json()"
      ],
      "execution_count": null,
      "outputs": []
    },
    {
      "cell_type": "code",
      "metadata": {
        "id": "RzQLMeyFP9uI"
      },
      "source": [
        "live_response.headers"
      ],
      "execution_count": null,
      "outputs": []
    },
    {
      "cell_type": "code",
      "metadata": {
        "id": "k2x7JyXoP9pu"
      },
      "source": [
        "live_response.headers['Content-Type']"
      ],
      "execution_count": null,
      "outputs": []
    },
    {
      "cell_type": "markdown",
      "metadata": {
        "id": "hSY-IOj1RAhB"
      },
      "source": [
        "### *Converting JSON Data to Pandas DataFrame*"
      ]
    },
    {
      "cell_type": "code",
      "metadata": {
        "id": "-lORqE94P9PO"
      },
      "source": [
        "data = live_response.text\n",
        "df = pd.read_json(data)\n",
        "df.head()"
      ],
      "execution_count": null,
      "outputs": []
    },
    {
      "cell_type": "code",
      "metadata": {
        "id": "FTgMefTsUSY2"
      },
      "source": [
        "now = dt.datetime.now()\n",
        "now"
      ],
      "execution_count": null,
      "outputs": []
    },
    {
      "cell_type": "code",
      "metadata": {
        "id": "8wO6hTqIUSkx"
      },
      "source": [
        "df['date_time_stamp'] = now\n",
        "df"
      ],
      "execution_count": null,
      "outputs": []
    },
    {
      "cell_type": "code",
      "metadata": {
        "id": "AG8tmeAeUSvW"
      },
      "source": [
        "now.year\n",
        "df['year_stamp'] = now.year\n",
        "df"
      ],
      "execution_count": null,
      "outputs": []
    },
    {
      "cell_type": "code",
      "metadata": {
        "id": "FQbhu0L7UTBK"
      },
      "source": [
        "now.strftime(\"%m-%d-%Y %H:%M\")"
      ],
      "execution_count": null,
      "outputs": []
    },
    {
      "cell_type": "code",
      "metadata": {
        "id": "xakf6dw3USrg"
      },
      "source": [
        "todaytimestamp =dt.date.today()\n",
        "df['date_stamp'] = todaytimestamp\n",
        "df.head()"
      ],
      "execution_count": null,
      "outputs": []
    }
  ]
}